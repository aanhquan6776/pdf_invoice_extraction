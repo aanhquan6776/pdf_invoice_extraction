{
 "cells": [
  {
   "cell_type": "code",
   "execution_count": 4,
   "metadata": {},
   "outputs": [],
   "source": [
    "import json\n",
    "import Beta"
   ]
  },
  {
   "cell_type": "code",
   "execution_count": 5,
   "metadata": {},
   "outputs": [],
   "source": [
    "result = {}\n",
    "max_num = 57\n",
    "for i in range(1, max_num+1):\n",
    "    filename = 'Data/%d.pdf'%i\n",
    "    tmp = Beta.extract_from_pdf(filename)\n",
    "    tag = '%d'%i\n",
    "    result.update({tag:tmp})"
   ]
  },
  {
   "cell_type": "code",
   "execution_count": 15,
   "metadata": {},
   "outputs": [],
   "source": [
    "# with open('Data/labels.json', 'w') as outfile:\n",
    "#     json.dumps(result, outfile)\n",
    "\n",
    "s = json.dumps(result, ensure_ascii = False)\n",
    "with open('Data/labels.json', 'w', encoding='utf-8') as outfile:\n",
    "    outfile.write(s)"
   ]
  },
  {
   "cell_type": "code",
   "execution_count": null,
   "metadata": {},
   "outputs": [],
   "source": []
  }
 ],
 "metadata": {
  "kernelspec": {
   "display_name": "Python 3",
   "language": "python",
   "name": "python3"
  },
  "language_info": {
   "codemirror_mode": {
    "name": "ipython",
    "version": 3
   },
   "file_extension": ".py",
   "mimetype": "text/x-python",
   "name": "python",
   "nbconvert_exporter": "python",
   "pygments_lexer": "ipython3",
   "version": "3.7.3"
  }
 },
 "nbformat": 4,
 "nbformat_minor": 2
}
