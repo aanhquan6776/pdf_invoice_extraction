{
 "cells": [
  {
   "cell_type": "code",
   "execution_count": 2,
   "metadata": {},
   "outputs": [],
   "source": [
    "from pdf2image import convert_from_path, convert_from_bytes\n",
    "from PIL import Image, PpmImagePlugin\n",
    "import numpy as np"
   ]
  },
  {
   "cell_type": "code",
   "execution_count": 9,
   "metadata": {},
   "outputs": [],
   "source": [
    "pages = convert_from_path('Data/ImagePDF/3.pdf')\n",
    "result = Image.new(pages[0].mode, (pages[0].width, pages[0].height*len(pages)))\n",
    "y = 0\n",
    "x = 0\n",
    "for i in range(len(pages)):\n",
    "    result.paste(pages[i], (x, y))\n",
    "    y = y + pages[i].height\n",
    "        \n",
    "result.save('out.jpg')"
   ]
  }
 ],
 "metadata": {
  "kernelspec": {
   "display_name": "Python 3",
   "language": "python",
   "name": "python3"
  },
  "language_info": {
   "codemirror_mode": {
    "name": "ipython",
    "version": 3
   },
   "file_extension": ".py",
   "mimetype": "text/x-python",
   "name": "python",
   "nbconvert_exporter": "python",
   "pygments_lexer": "ipython3",
   "version": "3.7.3"
  }
 },
 "nbformat": 4,
 "nbformat_minor": 2
}
