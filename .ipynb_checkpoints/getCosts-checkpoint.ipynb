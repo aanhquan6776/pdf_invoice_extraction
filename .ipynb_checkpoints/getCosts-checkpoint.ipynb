{
 "cells": [
  {
   "cell_type": "code",
   "execution_count": 1,
   "metadata": {},
   "outputs": [],
   "source": [
    "import camelot\n",
    "import re\n",
    "from io import StringIO\n",
    "from pdfminer.pdfinterp import PDFResourceManager, PDFPageInterpreter\n",
    "from pdfminer.converter import TextConverter\n",
    "from pdfminer.layout import LAParams\n",
    "from pdfminer.pdfpage import PDFPage\n",
    "from datetime import date"
   ]
  },
  {
   "cell_type": "code",
   "execution_count": 32,
   "metadata": {},
   "outputs": [],
   "source": [
    "################ GET COSTS #################\n",
    "#convert cost string (with '.' and ',') to number\n",
    "def costStringToNum(cost):\n",
    "    result = 0\n",
    "    i = 0\n",
    "    front = 0.\n",
    "    rear = 0.\n",
    "    trace = -1\n",
    "    \n",
    "    while i<len(cost):\n",
    "        if cost[i]==',':\n",
    "            trace = 0\n",
    "        elif cost[i]!='.':\n",
    "            if trace<0:\n",
    "                front = front*10 + int(cost[i])\n",
    "            else:\n",
    "                rear = rear*10 + int(cost[i])\n",
    "                trace +=1\n",
    "        i+=1\n",
    "    result = front + rear / (10 ** trace)\n",
    "    return result\n",
    "\n",
    "#check if the cell contain a cost number\n",
    "def containCost(cell):\n",
    "    cost_regex = '\\d{1,3}([.]\\d{3})+([,]\\d+)?'\n",
    "    if re.search(cost_regex, cell):\n",
    "        return True\n",
    "    return False\n",
    "\n",
    "#get all cost in the cell\n",
    "def getCosts(cell):\n",
    "    cost_regex = '\\d{1,3}([.]\\d{3})+([,]\\d+)?'\n",
    "    \n",
    "    result = []\n",
    "    \n",
    "    begin = 0\n",
    "    while 1:\n",
    "        found = re.search(cost_regex, cell[begin:])\n",
    "        if found:\n",
    "            result.append(cell[begin+found.start():begin+found.end()])\n",
    "            begin = begin + found.end()\n",
    "        else:\n",
    "            break\n",
    "    return result        \n",
    "\n",
    "#get all cost in the tables    \n",
    "def getAllCosts(tables):\n",
    "    result = []\n",
    "    \n",
    "    for i in range(len(tables)):\n",
    "        table = tables[i].df\n",
    "        m, n = table.shape\n",
    "        for i in range(m):\n",
    "            row = table.iloc[i,:].values\n",
    "            for j in range(n):\n",
    "                cell = row[j]\n",
    "                if containCost(cell):\n",
    "                    result.extend(getCosts(cell))\n",
    "    return result\n",
    "\n",
    "#get totalWithoutVAT, totalVAT, and totalWithVAT\n",
    "def getFinalCosts(tables):\n",
    "    finalCosts = {'totalWithoutVAT': '', 'totalVAT': '', 'totalWithVAT': ''}\n",
    "    allCosts = getAllCosts(tables)\n",
    "    \n",
    "    if len(allCosts)<3:\n",
    "        return finalCosts\n",
    "    \n",
    "    if len(allCosts)>1:\n",
    "        if allCosts[-1]==allCosts[-2]:\n",
    "            allCosts.append(allCosts[-1])\n",
    "            allCosts[-2] = '0'        \n",
    "    \n",
    "    i = -3\n",
    "    for reg in finalCosts.keys():\n",
    "        finalCosts.update({reg: allCosts[i]})\n",
    "        i += 1\n",
    "    return finalCosts "
   ]
  },
  {
   "cell_type": "code",
   "execution_count": 33,
   "metadata": {},
   "outputs": [],
   "source": [
    "################ MAIN PROCESS #####################\n",
    "\n",
    "# get information from table\n",
    "def getPartiesInfo(tables):\n",
    "    seller = {}\n",
    "    buyer = {}\n",
    "    \n",
    "    for t in range(len(tables)):\n",
    "        table = tables[t].df\n",
    "        m, n = table.shape\n",
    "        for i in range(m):\n",
    "            row = table.iloc[i,:].values\n",
    "\n",
    "            for j in range(n):\n",
    "                cell = row[j]\n",
    "                if len(seller)==0 and containSellerInfo(cell):\n",
    "                    seller = getSellerInfo(cell)\n",
    "                elif len(seller)>0 and len(buyer)>0:\n",
    "                    return seller, buyer\n",
    "     \n",
    "    return seller, buyer\n",
    "\n",
    "# get information from all tables                \n",
    "def extract_from_pdf(inputfile):\n",
    "    result = {}\n",
    "    tables = camelot.read_pdf(inputfile, pages=\"1-end\", flavor='lattice', process_background=True)\n",
    "#     text = convert(inputfile)\n",
    "\n",
    "    finalCosts = {}\n",
    "    finalCosts = getFinalCosts(tables)\n",
    "\n",
    "    result.update(finalCosts)\n",
    "    \n",
    "    return result"
   ]
  },
  {
   "cell_type": "code",
   "execution_count": 34,
   "metadata": {},
   "outputs": [
    {
     "name": "stdout",
     "output_type": "stream",
     "text": [
      "{'totalWithoutVAT': '22.550.000', 'totalVAT': '0', 'totalWithVAT': '22.550.000'}\n"
     ]
    }
   ],
   "source": [
    "inputfile = 'Data/61.pdf'\n",
    "print(extract_from_pdf(inputfile))"
   ]
  },
  {
   "cell_type": "code",
   "execution_count": 9,
   "metadata": {},
   "outputs": [
    {
     "name": "stdout",
     "output_type": "stream",
     "text": [
      "<TableList n=1>\n"
     ]
    }
   ],
   "source": [
    "tables = camelot.read_pdf(inputfile, pages=\"1-end\", flavor='lattice', process_background=True)\n",
    "print(tables)"
   ]
  },
  {
   "cell_type": "code",
   "execution_count": 10,
   "metadata": {},
   "outputs": [
    {
     "name": "stdout",
     "output_type": "stream",
     "text": [
      "   0                                                  1  \\\n",
      "0                                                         \n",
      "1                                                         \n",
      "2                                                         \n",
      "3                                                         \n",
      "4                                                         \n",
      "5                                                         \n",
      "6                                                         \n",
      "7     STT\\nTên hàng hóa, dịch vụ\\nĐơn vị tính\\nSố lư...   \n",
      "8                                                         \n",
      "9                                                         \n",
      "10                                                        \n",
      "11                                                        \n",
      "12                                                        \n",
      "\n",
      "                                                    2 3 4  \n",
      "0                                                          \n",
      "1                                                          \n",
      "2   01GTKT0/001\\nMẫu số (Form):\\nHÓA ĐƠN GIÁ TRỊ G...      \n",
      "3                                                          \n",
      "4   Đơn vị bán hàng (Seller): CÔNG TY TNHH THƯƠNG ...      \n",
      "5                                                          \n",
      "6   Họ tên người mua hàng (Customer's name):\\nTên ...      \n",
      "7                                                          \n",
      "8   Người mua hàng (Buyer)\\nNgười bán hàng (Seller...      \n",
      "9                                                          \n",
      "10  Đơn vị cung cấp dịch vụ Hóa đơn điện tử: Tập đ...      \n",
      "11                                                         \n",
      "12                                                         \n"
     ]
    }
   ],
   "source": [
    "print(tables[0].df)"
   ]
  },
  {
   "cell_type": "code",
   "execution_count": 15,
   "metadata": {},
   "outputs": [
    {
     "name": "stdout",
     "output_type": "stream",
     "text": [
      "['0']\n"
     ]
    }
   ],
   "source": [
    "print(getVat(tables[0].df.values[7][1]))"
   ]
  },
  {
   "cell_type": "code",
   "execution_count": null,
   "metadata": {},
   "outputs": [],
   "source": []
  }
 ],
 "metadata": {
  "kernelspec": {
   "display_name": "Python 3",
   "language": "python",
   "name": "python3"
  },
  "language_info": {
   "codemirror_mode": {
    "name": "ipython",
    "version": 3
   },
   "file_extension": ".py",
   "mimetype": "text/x-python",
   "name": "python",
   "nbconvert_exporter": "python",
   "pygments_lexer": "ipython3",
   "version": "3.7.3"
  }
 },
 "nbformat": 4,
 "nbformat_minor": 2
}
